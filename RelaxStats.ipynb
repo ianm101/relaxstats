{
 "cells": [
  {
   "cell_type": "code",
   "execution_count": 20,
   "metadata": {},
   "outputs": [],
   "source": [
    "import numpy as np\n",
    "import pandas as pd\n",
    "import matplotlib.pyplot as plt\n",
    "import sklearn.preprocessing as skl"
   ]
  },
  {
   "cell_type": "code",
   "execution_count": 6,
   "metadata": {},
   "outputs": [
    {
     "name": "stdout",
     "output_type": "stream",
     "text": [
      "    #          Player Position  Games Played  Goals  Assists  Points  Shots  \\\n",
      "0   9  Ryan Lanchbury        A             5    8.0      9.0    17.0   34.0   \n",
      "1  21    Dalton Young        A             5   12.0      3.0    15.0   24.0   \n",
      "2  18   Tyler Shoults        M             4    4.0      5.0     9.0   12.0   \n",
      "3  14     Luke Grayum        A             5    6.0      2.0     8.0   11.0   \n",
      "4  23  Richie Connell        A             5    7.0      1.0     8.0   30.0   \n",
      "\n",
      "  Shooting Percentage  Shots On Goal  ...  Ground Balls  Caused Turnovers  \\\n",
      "0                 24%           21.0  ...           8.0               0.0   \n",
      "1                 50%           18.0  ...           6.0               1.0   \n",
      "2                 33%            4.0  ...           1.0               1.0   \n",
      "3                 55%            8.0  ...           0.0               0.0   \n",
      "4                 23%           17.0  ...           8.0               1.0   \n",
      "\n",
      "   Turnovers  Saves  Goals Allowed  Shots Faced  Save Percentage Faceoff Wins  \\\n",
      "0       10.0    0.0            0.0          0.0               0%          0.0   \n",
      "1        7.0    0.0            0.0          0.0               0%          0.0   \n",
      "2        2.0    0.0            0.0          0.0               0%          0.0   \n",
      "3        2.0    0.0            0.0          0.0               0%          0.0   \n",
      "4        8.0    0.0            0.0          0.0               0%          0.0   \n",
      "\n",
      "   Faceoff Attempts  Faceoff Win Percentage  \n",
      "0               0.0                      0%  \n",
      "1               0.0                      0%  \n",
      "2               0.0                      0%  \n",
      "3               0.0                      0%  \n",
      "4               0.0                      0%  \n",
      "\n",
      "[5 rows x 21 columns]\n"
     ]
    }
   ],
   "source": [
    "data = pd.read_csv(\"Richmond.csv\")\n",
    "print(data.head())\n"
   ]
  },
  {
   "cell_type": "code",
   "execution_count": 23,
   "metadata": {},
   "outputs": [
    {
     "name": "stdout",
     "output_type": "stream",
     "text": [
      "     #           Player Position  Games Played  Goals  Assists  Points  Shots  \\\n",
      "0    9   Ryan Lanchbury        A             5    8.0      9.0    17.0   34.0   \n",
      "1   21     Dalton Young        A             5   12.0      3.0    15.0   24.0   \n",
      "3   14      Luke Grayum        A             5    6.0      2.0     8.0   11.0   \n",
      "4   23   Richie Connell        A             5    7.0      1.0     8.0   30.0   \n",
      "5   13       Kevin Todd        A             2    3.0      3.0     6.0    6.0   \n",
      "6    4        Ryan Dunn        A             4    2.0      2.0     4.0    9.0   \n",
      "7   17    Lance Madonna        A             3    3.0      1.0     4.0    6.0   \n",
      "9   43    Brett Randall        A             5    2.0      1.0     3.0   10.0   \n",
      "10   1      Austin Reid        A             3    1.0      0.0     1.0    2.0   \n",
      "15  19  Jack Delligatti        A             1    1.0      NaN     1.0    3.0   \n",
      "\n",
      "   Shooting Percentage  Shots On Goal  ...  Ground Balls  Caused Turnovers  \\\n",
      "0                  24%           21.0  ...           8.0               0.0   \n",
      "1                  50%           18.0  ...           6.0               1.0   \n",
      "3                  55%            8.0  ...           0.0               0.0   \n",
      "4                  23%           17.0  ...           8.0               1.0   \n",
      "5                  50%            4.0  ...           NaN               NaN   \n",
      "6                  22%            5.0  ...           3.0               0.0   \n",
      "7                  50%            3.0  ...           NaN               NaN   \n",
      "9                  20%            7.0  ...           0.0               0.0   \n",
      "10                 50%            2.0  ...           0.0               0.0   \n",
      "15                 33%            3.0  ...           1.0               NaN   \n",
      "\n",
      "    Turnovers  Saves  Goals Allowed  Shots Faced  Save Percentage  \\\n",
      "0        10.0    0.0            0.0          0.0               0%   \n",
      "1         7.0    0.0            0.0          0.0               0%   \n",
      "3         2.0    0.0            0.0          0.0               0%   \n",
      "4         8.0    0.0            0.0          0.0               0%   \n",
      "5         1.0    NaN            NaN          NaN               0%   \n",
      "6         3.0    0.0            0.0          0.0               0%   \n",
      "7         1.0    NaN            NaN          NaN               0%   \n",
      "9         5.0    0.0            0.0          0.0               0%   \n",
      "10        1.0    0.0            0.0          0.0               0%   \n",
      "15        1.0    NaN            NaN          NaN               0%   \n",
      "\n",
      "   Faceoff Wins  Faceoff Attempts  Faceoff Win Percentage  \n",
      "0           0.0               0.0                      0%  \n",
      "1           0.0               0.0                      0%  \n",
      "3           0.0               0.0                      0%  \n",
      "4           0.0               0.0                      0%  \n",
      "5           NaN               NaN                      0%  \n",
      "6           0.0               0.0                      0%  \n",
      "7           NaN               NaN                      0%  \n",
      "9           0.0               0.0                      0%  \n",
      "10          0.0               0.0                      0%  \n",
      "15          NaN               NaN                      0%  \n",
      "\n",
      "[10 rows x 21 columns]\n"
     ]
    },
    {
     "data": {
      "text/plain": [
       "<matplotlib.collections.PathCollection at 0x11a66ec8>"
      ]
     },
     "execution_count": 23,
     "metadata": {},
     "output_type": "execute_result"
    },
    {
     "data": {
      "image/png": "[encoded data removed]",
      "text/plain": [
       "<Figure size 1080x720 with 1 Axes>"
      ]
     },
     "metadata": {
      "needs_background": "light"
     },
     "output_type": "display_data"
    }
   ],
   "source": [
    "positions = data['Position']\n",
    "attack = positions[positions=='A']\n",
    "all_attack_data = data[positions=='A']\n",
    "\n",
    "# Bubble size : Shots\n",
    "# X axis - Shots on net\n",
    "# Y axis - Goals\n",
    "# Bubble color : Efficiency\n",
    "print(all_attack_data)\n",
    "Goals_y = all_attack_data['Goals']\n",
    "SOG_x = all_attack_data['Shots On Goal']\n",
    "Shots_BS = all_attack_data['Shots']\n",
    "\n",
    "norm_y = skl.normalize(np.expand_dims(Goals_y, 1))\n",
    "norm_x = skl.normalize(np.expand_dims(SOG_x, 1))\n",
    "\n",
    "plt.figure(figsize=(15,10))\n",
    "plt.scatter(norm_x, norm_y, s = Shots_BS, cmap='coolwarm')"
   ]
  },
  {
   "cell_type": "code",
   "execution_count": null,
   "metadata": {},
   "outputs": [],
   "source": []
  }
 ],
 "metadata": {
  "kernelspec": {
   "display_name": "Python 3",
   "language": "python",
   "name": "python3"
  },
  "language_info": {
   "codemirror_mode": {
    "name": "ipython",
    "version": 3
   },
   "file_extension": ".py",
   "mimetype": "text/x-python",
   "name": "python",
   "nbconvert_exporter": "python",
   "pygments_lexer": "ipython3",
   "version": "3.8.2"
  }
 },
 "nbformat": 4,
 "nbformat_minor": 4
}
